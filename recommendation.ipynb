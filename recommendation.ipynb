{
 "cells": [
  {
   "cell_type": "code",
   "execution_count": 2,
   "metadata": {},
   "outputs": [],
   "source": [
    "import pandas as pd\n",
    "from sklearn.cluster import KMeans\n",
    "from sklearn.preprocessing import StandardScaler\n",
    "from sklearn.model_selection import train_test_split\n",
    "from sklearn.ensemble import RandomForestClassifier\n",
    "from sklearn.metrics import classification_report\n",
    "\n",
    "merged_df = pd.read_csv('merged.csv')\n",
    "\n",
    "features = merged_df[['genres', 'avg_rating']]\n",
    "\n",
    "# one-hot encoding\n",
    "genres_encoded = merged_df['genres'].str.get_dummies(sep='|')\n",
    "\n",
    "features = pd.concat([genres_encoded, features['avg_rating']], axis=1)\n",
    "\n",
    "scaler = StandardScaler()\n",
    "features_scaled = scaler.fit_transform(features)\n",
    "\n",
    "k = 3  \n",
    "kmeans = KMeans(n_clusters=k, random_state=42)\n",
    "merged_df['Cluster'] = kmeans.fit_predict(features_scaled)\n",
    "\n"
   ]
  },
  {
   "cell_type": "code",
   "execution_count": 3,
   "metadata": {},
   "outputs": [
    {
     "name": "stdout",
     "output_type": "stream",
     "text": [
      "              precision    recall  f1-score   support\n",
      "\n",
      "           0       1.00      0.99      0.99      2469\n",
      "           1       0.99      1.00      0.99      1518\n",
      "           2       1.00      0.98      0.99       461\n",
      "\n",
      "    accuracy                           0.99      4448\n",
      "   macro avg       0.99      0.99      0.99      4448\n",
      "weighted avg       0.99      0.99      0.99      4448\n",
      "\n"
     ]
    }
   ],
   "source": [
    "# Split the data into training and testing sets\n",
    "X_train, X_test, y_train, y_test = train_test_split(features_scaled, merged_df['Cluster'], test_size=0.2, random_state=42)\n",
    "\n",
    "# Train a classification model (Random Forest Classifier is just an example)\n",
    "classifier = RandomForestClassifier(random_state=42)\n",
    "classifier.fit(X_train, y_train)\n",
    "\n",
    "# Make predictions on the test set\n",
    "y_pred = classifier.predict(X_test)\n",
    "\n",
    "# Evaluate the classification model\n",
    "print(classification_report(y_test, y_pred))\n"
   ]
  },
  {
   "cell_type": "code",
   "execution_count": 4,
   "metadata": {},
   "outputs": [
    {
     "name": "stdout",
     "output_type": "stream",
     "text": [
      "Enter genres (comma-separated): comedy\n",
      "Recommended Movies:\n",
      "                                     title              genres  avg_rating  \\\n",
      "17512           Listen to Me Marlon (2015)         Documentary         5.0   \n",
      "12846                   Connections (1978)         Documentary         5.0   \n",
      "9593            Drawing Restraint 9 (2005)             Fantasy         5.0   \n",
      "21963  The Battle Over Citizen Kane (1996)         Documentary         5.0   \n",
      "17198  Jim Henson's The Storyteller (1989)             Fantasy         5.0   \n",
      "17228          The Human Experiment (2015)         Documentary         5.0   \n",
      "17266                   Remembrance (2011)               Drama         5.0   \n",
      "17272         The Story of O Part 2 (1984)  (no genres listed)         5.0   \n",
      "9595      Lower City (Cidade Baixa) (2005)               Drama         5.0   \n",
      "21941      Uri: The Surgical Strike (2019)        Action|Drama         5.0   \n",
      "\n",
      "       movieId  \n",
      "17512   142258  \n",
      "12846    86237  \n",
      "9593     46083  \n",
      "21963   199434  \n",
      "17198   139195  \n",
      "17228   139626  \n",
      "17266   140088  \n",
      "17272   140144  \n",
      "9595     46108  \n",
      "21941   198781  \n"
     ]
    }
   ],
   "source": [
    "user_genres = input(\"Enter genres (comma-separated): \").split(',')\n",
    "\n",
    "user_input_df = pd.DataFrame({'avg_rating': [0.0]})  # Assuming 'avg_rating' is a numerical column\n",
    "user_input_df = pd.concat([user_input_df, genres_encoded.loc[0]], axis=1)\n",
    "\n",
    "\n",
    "feature_columns = features.columns\n",
    "\n",
    "user_input_df = user_input_df.reindex(columns=feature_columns, fill_value=0)\n",
    "\n",
    "user_input_df = user_input_df.fillna(0)\n",
    "\n",
    "# Scale the user input features\n",
    "user_input_scaled = scaler.transform(user_input_df)\n",
    "\n",
    "# Predict the cluster for the user input\n",
    "user_cluster = kmeans.predict(user_input_scaled)[0]\n",
    "\n",
    "# Filter movies within the cluster based on user input\n",
    "recommended_movies = merged_df[(merged_df['Cluster'] == user_cluster) & (merged_df['genres'].str.contains('|'.join(user_genres)))]\n",
    "\n",
    "cluster_movies = merged_df[merged_df['Cluster'] == user_cluster]\n",
    "highest_rated_movies = cluster_movies.sort_values(by='avg_rating', ascending=False).head(10)\n",
    "\n",
    "# Display recommended movies\n",
    "print(\"Recommended Movies:\")\n",
    "print(highest_rated_movies[['title', 'genres', 'avg_rating', 'movieId']])\n",
    "\n"
   ]
  },
  {
   "cell_type": "code",
   "execution_count": null,
   "metadata": {},
   "outputs": [],
   "source": []
  }
 ],
 "metadata": {
  "kernelspec": {
   "display_name": "Python 3 (ipykernel)",
   "language": "python",
   "name": "python3"
  },
  "language_info": {
   "codemirror_mode": {
    "name": "ipython",
    "version": 3
   },
   "file_extension": ".py",
   "mimetype": "text/x-python",
   "name": "python",
   "nbconvert_exporter": "python",
   "pygments_lexer": "ipython3",
   "version": "3.9.12"
  }
 },
 "nbformat": 4,
 "nbformat_minor": 2
}
